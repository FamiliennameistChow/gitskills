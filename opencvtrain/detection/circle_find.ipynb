{
 "cells": [
  {
   "cell_type": "code",
   "execution_count": 68,
   "metadata": {},
   "outputs": [],
   "source": [
    "import cv2\n",
    "import numpy as np\n",
    "\n",
    "def get_minAreaRect(image):\n",
    "    gray = cv2.cvtColor(image, cv2.COLOR_BGR2GRAY)\n",
    "    gray = cv2.bitwise_not(gray)\n",
    "    thresh = cv2.threshold(gray, 0, 255,\n",
    "        cv2.THRESH_BINARY | cv2.THRESH_OTSU)[1]\n",
    "    coords = np.column_stack(np.where(thresh > 0))\n",
    "    return cv2.minAreaRect(coords)\n",
    "\n",
    "\n",
    "def rotate_bound(image, angle):\n",
    "    # 获取宽高\n",
    "    (h, w) = image.shape[:2]\n",
    "    (cX, cY) = (w // 2, h // 2)\n",
    "\n",
    "    # 提取旋转矩阵 sin cos\n",
    "    M = cv2.getRotationMatrix2D((cX, cY), -angle, 1.0)\n",
    "    cos = np.abs(M[0, 0])\n",
    "    sin = np.abs(M[0, 1])\n",
    "\n",
    "    # 计算图像的新边界尺寸\n",
    "    nW = int((h * sin) + (w * cos))\n",
    "    #     nH = int((h * cos) + (w * sin))\n",
    "    nH = h\n",
    "\n",
    "    # 调整旋转矩阵\n",
    "    M[0, 2] += (nW / 2) - cX\n",
    "    M[1, 2] += (nH / 2) - cY\n",
    "\n",
    "    return cv2.warpAffine(image, M, (nW, nH), flags=cv2.INTER_CUBIC, borderMode=cv2.BORDER_REPLICATE)"
   ]
  },
  {
   "cell_type": "code",
   "execution_count": 69,
   "metadata": {},
   "outputs": [],
   "source": [
    "img = cv2.imread('circle2.png')\n",
    "cv2.imshow('img', img)\n",
    "cv2.waitKey()\n",
    "cv2.destroyAllWindows()"
   ]
  },
  {
   "cell_type": "code",
   "execution_count": 70,
   "metadata": {},
   "outputs": [
    {
     "name": "stdout",
     "output_type": "stream",
     "text": [
      "(639, 1094, 3)\n"
     ]
    }
   ],
   "source": [
    "gray = cv2.cvtColor(img, cv2.COLOR_BGR2GRAY)\n",
    "cv2.imshow('gray', gray)\n",
    "cv2.waitKey()\n",
    "cv2.destroyAllWindows()\n",
    "print(img.shape)"
   ]
  },
  {
   "cell_type": "code",
   "execution_count": 71,
   "metadata": {},
   "outputs": [
    {
     "name": "stdout",
     "output_type": "stream",
     "text": [
      "<class 'numpy.ndarray'>\n",
      "4\n",
      "70.9\n",
      "[69.5]\n",
      "[69.5, 70.9]\n",
      "[69.5, 70.9, 70.8]\n",
      "[69.5, 70.9, 70.8, 23.4]\n",
      "70\n",
      "[[[232.5 479.5  69.5]\n",
      "  [794.5 517.5  69.5]\n",
      "  [882.5 165.5  70.8]]]\n",
      "3\n"
     ]
    }
   ],
   "source": [
    "circles = cv2.HoughCircles(gray, cv2.HOUGH_GRADIENT, 1, 100, param1=100, param2=30, minRadius=5, maxRadius=300)\n",
    "print(type(circles))\n",
    "print(len(circles[0]))\n",
    "print(circles[0][1][2])\n",
    "radius = []\n",
    "for i in range(len(circles[0])):\n",
    "    radius += [circles[0][i][2]]\n",
    "    print(radius)\n",
    "if len(circles[0]) > 3:\n",
    "    radius.remove(min(radius))\n",
    "    radius.remove(max(radius))\n",
    "    radius_mean = int(np.mean(radius))\n",
    "    print(radius_mean)\n",
    "    # 筛选后的圆\n",
    "    circles = cv2.HoughCircles(gray, cv2.HOUGH_GRADIENT, 1, 100, param1=100, param2=30, minRadius=(radius_mean-10),\n",
    "                               maxRadius=(radius_mean+10))\n",
    "    print(circles)\n",
    "    print(len(circles[0]))"
   ]
  },
  {
   "cell_type": "code",
   "execution_count": 72,
   "metadata": {},
   "outputs": [
    {
     "name": "stdout",
     "output_type": "stream",
     "text": [
      "radius: 69.5\n",
      "1\n",
      "radius: 69.5\n",
      "0\n",
      "radius: 70.8\n",
      "0\n"
     ]
    }
   ],
   "source": [
    "# 根据检测到圆的信息，画出每一个圆\n",
    "for circle in circles[0]:\n",
    "    # 圆的基本信息\n",
    "    print(\"radius:\", circle[2])\n",
    "    # 坐标行列\n",
    "    x = int(circle[0])\n",
    "    y = int(circle[1])\n",
    "    # 半径\n",
    "    r = int(circle[2])\n",
    "    circle_img = img[int(y-r/2):int(y+r/2), int(x-r/2):int(x+r/2)]\n",
    "    cv2.imshow(\"corp\", circle_img)\n",
    "    cv2.waitKey(0)\n",
    "    cv2.destroyAllWindows()\n",
    "    angle = get_minAreaRect(circle_img)[-1]\n",
    "    rotated = rotate_bound(circle_img, angle)\n",
    "    cv2.imshow(\"rotate\", rotated)\n",
    "    cv2.waitKey(0)\n",
    "    cv2.destroyAllWindows()\n",
    "    rotated_gray = cv2.cvtColor(rotated, cv2.COLOR_BGR2GRAY)\n",
    "    ret, binary = cv2.threshold(rotated_gray, 50, 255, cv2.THRESH_BINARY_INV)\n",
    "    cv2.imshow(\"binary\", binary)\n",
    "    cv2.waitKey(0)\n",
    "    cv2.destroyAllWindows()\n",
    "    contours, hierarchy = cv2.findContours(binary, cv2.RETR_TREE, cv2.CHAIN_APPROX_SIMPLE)\n",
    "    print(len(contours))\n",
    "    cv2.drawContours(rotated, contours, -1, (0, 255, 0), 1)\n",
    "    cv2.imshow(\"rotate\", rotated)\n",
    "    cv2.waitKey(0)\n",
    "    cv2.destroyAllWindows()\n",
    "    text = \"x:\" + str(x) + \" y: \" + str(y) + \" R:\" + str(r)\n",
    "    # 在原图用指定颜色标记出圆的位置\n",
    "    img = cv2.circle(img, (x, y), r, (0, 255, 0), -1)\n",
    "    cv2.putText(img, text, (x, y), cv2.FONT_HERSHEY_PLAIN, 2.0, (0, 0, 255), 2)\n",
    "\n",
    "# 显示新图像\n",
    "cv2.imshow('res', img)\n",
    "\n",
    "# 按任意键退出\n",
    "cv2.waitKey(0)\n",
    "cv2.destroyAllWindows()"
   ]
  },
  {
   "cell_type": "code",
   "execution_count": null,
   "metadata": {},
   "outputs": [],
   "source": []
  }
 ],
 "metadata": {
  "kernelspec": {
   "display_name": "Python 3",
   "language": "python",
   "name": "python3"
  },
  "language_info": {
   "codemirror_mode": {
    "name": "ipython",
    "version": 3
   },
   "file_extension": ".py",
   "mimetype": "text/x-python",
   "name": "python",
   "nbconvert_exporter": "python",
   "pygments_lexer": "ipython3",
   "version": "3.7.1"
  }
 },
 "nbformat": 4,
 "nbformat_minor": 2
}
